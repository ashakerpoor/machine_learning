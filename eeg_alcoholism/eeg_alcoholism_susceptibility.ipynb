{
 "cells": [
  {
   "cell_type": "code",
   "execution_count": 2,
   "id": "a04dad83",
   "metadata": {},
   "outputs": [
    {
     "name": "stderr",
     "output_type": "stream",
     "text": [
      "2023-06-13 23:20:05.096710: W tensorflow/stream_executor/platform/default/dso_loader.cc:64] Could not load dynamic library 'libcudart.so.11.0'; dlerror: libcudart.so.11.0: cannot open shared object file: No such file or directory\n",
      "2023-06-13 23:20:05.096791: I tensorflow/stream_executor/cuda/cudart_stub.cc:29] Ignore above cudart dlerror if you do not have a GPU set up on your machine.\n"
     ]
    }
   ],
   "source": [
    "import numpy as np\n",
    "import pandas as pd\n",
    "import seaborn as sns\n",
    "import tensorflow as tf\n",
    "import matplotlib.pyplot as plt\n",
    "\n",
    "import os"
   ]
  },
  {
   "cell_type": "code",
   "execution_count": 3,
   "id": "c62f2b79",
   "metadata": {},
   "outputs": [],
   "source": [
    "work_dir = os.getcwd() + '/' # save the path to the current directory."
   ]
  },
  {
   "cell_type": "code",
   "execution_count": 4,
   "id": "b15a6508",
   "metadata": {},
   "outputs": [],
   "source": [
    "filenames = [] # name of the csv files in the training set.\n",
    "df_train_orig = pd.DataFrame(columns=[]) # All the csv files will concatenate to this file to form a single 'train' data set.\n",
    "for (root, dirs, files) in os.walk(work_dir+\"data/SMNI_CMI_TRAIN/\"):\n",
    "    for name in files:\n",
    "#         filename = os.path.join(root, name)\n",
    "        filenames.append(name)\n",
    "        file = pd.read_csv(root+name)\n",
    "        df_train_orig = pd.concat([df_train_orig, file])"
   ]
  },
  {
   "cell_type": "code",
   "execution_count": 5,
   "id": "5cd1497c",
   "metadata": {},
   "outputs": [],
   "source": [
    "df_train_orig.to_csv('trainset.csv', index=False)"
   ]
  },
  {
   "cell_type": "code",
   "execution_count": 6,
   "id": "7fd55ea9",
   "metadata": {},
   "outputs": [
    {
     "data": {
      "text/html": [
       "<div>\n",
       "<style scoped>\n",
       "    .dataframe tbody tr th:only-of-type {\n",
       "        vertical-align: middle;\n",
       "    }\n",
       "\n",
       "    .dataframe tbody tr th {\n",
       "        vertical-align: top;\n",
       "    }\n",
       "\n",
       "    .dataframe thead th {\n",
       "        text-align: right;\n",
       "    }\n",
       "</style>\n",
       "<table border=\"1\" class=\"dataframe\">\n",
       "  <thead>\n",
       "    <tr style=\"text-align: right;\">\n",
       "      <th></th>\n",
       "      <th>Unnamed: 0</th>\n",
       "      <th>trial number</th>\n",
       "      <th>sensor position</th>\n",
       "      <th>sample num</th>\n",
       "      <th>sensor value</th>\n",
       "      <th>subject identifier</th>\n",
       "      <th>matching condition</th>\n",
       "      <th>channel</th>\n",
       "      <th>name</th>\n",
       "      <th>time</th>\n",
       "    </tr>\n",
       "  </thead>\n",
       "  <tbody>\n",
       "    <tr>\n",
       "      <th>0</th>\n",
       "      <td>5</td>\n",
       "      <td>11</td>\n",
       "      <td>FP1</td>\n",
       "      <td>0</td>\n",
       "      <td>2.787</td>\n",
       "      <td>a</td>\n",
       "      <td>S2 match</td>\n",
       "      <td>0</td>\n",
       "      <td>co2a0000365</td>\n",
       "      <td>0.000000</td>\n",
       "    </tr>\n",
       "    <tr>\n",
       "      <th>1</th>\n",
       "      <td>6</td>\n",
       "      <td>11</td>\n",
       "      <td>FP1</td>\n",
       "      <td>1</td>\n",
       "      <td>1.322</td>\n",
       "      <td>a</td>\n",
       "      <td>S2 match</td>\n",
       "      <td>0</td>\n",
       "      <td>co2a0000365</td>\n",
       "      <td>0.003906</td>\n",
       "    </tr>\n",
       "    <tr>\n",
       "      <th>2</th>\n",
       "      <td>7</td>\n",
       "      <td>11</td>\n",
       "      <td>FP1</td>\n",
       "      <td>2</td>\n",
       "      <td>1.811</td>\n",
       "      <td>a</td>\n",
       "      <td>S2 match</td>\n",
       "      <td>0</td>\n",
       "      <td>co2a0000365</td>\n",
       "      <td>0.007812</td>\n",
       "    </tr>\n",
       "    <tr>\n",
       "      <th>3</th>\n",
       "      <td>8</td>\n",
       "      <td>11</td>\n",
       "      <td>FP1</td>\n",
       "      <td>3</td>\n",
       "      <td>4.252</td>\n",
       "      <td>a</td>\n",
       "      <td>S2 match</td>\n",
       "      <td>0</td>\n",
       "      <td>co2a0000365</td>\n",
       "      <td>0.011719</td>\n",
       "    </tr>\n",
       "    <tr>\n",
       "      <th>4</th>\n",
       "      <td>9</td>\n",
       "      <td>11</td>\n",
       "      <td>FP1</td>\n",
       "      <td>4</td>\n",
       "      <td>6.205</td>\n",
       "      <td>a</td>\n",
       "      <td>S2 match</td>\n",
       "      <td>0</td>\n",
       "      <td>co2a0000365</td>\n",
       "      <td>0.015625</td>\n",
       "    </tr>\n",
       "  </tbody>\n",
       "</table>\n",
       "</div>"
      ],
      "text/plain": [
       "   Unnamed: 0  trial number sensor position  sample num  sensor value  \\\n",
       "0           5            11             FP1           0         2.787   \n",
       "1           6            11             FP1           1         1.322   \n",
       "2           7            11             FP1           2         1.811   \n",
       "3           8            11             FP1           3         4.252   \n",
       "4           9            11             FP1           4         6.205   \n",
       "\n",
       "  subject identifier matching condition  channel         name      time  \n",
       "0                  a           S2 match        0  co2a0000365  0.000000  \n",
       "1                  a           S2 match        0  co2a0000365  0.003906  \n",
       "2                  a           S2 match        0  co2a0000365  0.007812  \n",
       "3                  a           S2 match        0  co2a0000365  0.011719  \n",
       "4                  a           S2 match        0  co2a0000365  0.015625  "
      ]
     },
     "execution_count": 6,
     "metadata": {},
     "output_type": "execute_result"
    }
   ],
   "source": [
    "df_train_orig.head()"
   ]
  },
  {
   "cell_type": "code",
   "execution_count": 16,
   "id": "a6607f23",
   "metadata": {},
   "outputs": [
    {
     "data": {
      "text/html": [
       "<div>\n",
       "<style scoped>\n",
       "    .dataframe tbody tr th:only-of-type {\n",
       "        vertical-align: middle;\n",
       "    }\n",
       "\n",
       "    .dataframe tbody tr th {\n",
       "        vertical-align: top;\n",
       "    }\n",
       "\n",
       "    .dataframe thead th {\n",
       "        text-align: right;\n",
       "    }\n",
       "</style>\n",
       "<table border=\"1\" class=\"dataframe\">\n",
       "  <thead>\n",
       "    <tr style=\"text-align: right;\">\n",
       "      <th></th>\n",
       "      <th>trial number</th>\n",
       "      <th>sensor position</th>\n",
       "      <th>sensor value</th>\n",
       "      <th>matching condition</th>\n",
       "      <th>name</th>\n",
       "      <th>time</th>\n",
       "      <th>subject identifier</th>\n",
       "    </tr>\n",
       "  </thead>\n",
       "  <tbody>\n",
       "    <tr>\n",
       "      <th>0</th>\n",
       "      <td>11</td>\n",
       "      <td>FP1</td>\n",
       "      <td>2.787</td>\n",
       "      <td>S2 match</td>\n",
       "      <td>co2a0000365</td>\n",
       "      <td>0.000000</td>\n",
       "      <td>a</td>\n",
       "    </tr>\n",
       "    <tr>\n",
       "      <th>1</th>\n",
       "      <td>11</td>\n",
       "      <td>FP1</td>\n",
       "      <td>1.322</td>\n",
       "      <td>S2 match</td>\n",
       "      <td>co2a0000365</td>\n",
       "      <td>0.003906</td>\n",
       "      <td>a</td>\n",
       "    </tr>\n",
       "    <tr>\n",
       "      <th>2</th>\n",
       "      <td>11</td>\n",
       "      <td>FP1</td>\n",
       "      <td>1.811</td>\n",
       "      <td>S2 match</td>\n",
       "      <td>co2a0000365</td>\n",
       "      <td>0.007812</td>\n",
       "      <td>a</td>\n",
       "    </tr>\n",
       "    <tr>\n",
       "      <th>3</th>\n",
       "      <td>11</td>\n",
       "      <td>FP1</td>\n",
       "      <td>4.252</td>\n",
       "      <td>S2 match</td>\n",
       "      <td>co2a0000365</td>\n",
       "      <td>0.011719</td>\n",
       "      <td>a</td>\n",
       "    </tr>\n",
       "    <tr>\n",
       "      <th>4</th>\n",
       "      <td>11</td>\n",
       "      <td>FP1</td>\n",
       "      <td>6.205</td>\n",
       "      <td>S2 match</td>\n",
       "      <td>co2a0000365</td>\n",
       "      <td>0.015625</td>\n",
       "      <td>a</td>\n",
       "    </tr>\n",
       "  </tbody>\n",
       "</table>\n",
       "</div>"
      ],
      "text/plain": [
       "   trial number sensor position  sensor value matching condition         name  \\\n",
       "0            11             FP1         2.787           S2 match  co2a0000365   \n",
       "1            11             FP1         1.322           S2 match  co2a0000365   \n",
       "2            11             FP1         1.811           S2 match  co2a0000365   \n",
       "3            11             FP1         4.252           S2 match  co2a0000365   \n",
       "4            11             FP1         6.205           S2 match  co2a0000365   \n",
       "\n",
       "       time subject identifier  \n",
       "0  0.000000                  a  \n",
       "1  0.003906                  a  \n",
       "2  0.007812                  a  \n",
       "3  0.011719                  a  \n",
       "4  0.015625                  a  "
      ]
     },
     "execution_count": 16,
     "metadata": {},
     "output_type": "execute_result"
    }
   ],
   "source": [
    "# drop columns with no useful information,\n",
    "# 'sample num' shows equivalent information as 'time' column: sample num = (time * frequency)^{-1}\n",
    "# 'channel' number is equivalent to 'sensor position'.\n",
    "df_train = df_train_orig.drop(['Unnamed: 0', 'sample num', 'channel'], axis=1)\n",
    "# move the target feature \"subject identifier\" to the last column.\n",
    "df_train.insert((df_train.shape[1]-1), 'subject identifier', df_train.pop('subject identifier'))\n",
    "df_train.head()"
   ]
  },
  {
   "cell_type": "markdown",
   "id": "7ccdc46a",
   "metadata": {},
   "source": [
    "Let's analyze sample data sets for now"
   ]
  },
  {
   "cell_type": "code",
   "execution_count": 49,
   "id": "20b73143",
   "metadata": {},
   "outputs": [
    {
     "name": "stdout",
     "output_type": "stream",
     "text": [
      "df_a shape: (16384, 7)\n",
      "df_c shape: (16384, 7)\n"
     ]
    }
   ],
   "source": [
    "# we pick out randomly selected data files associated with the single trial of 'alcoholic' and 'control' groups.\n",
    "df_a = df_train.loc[(df_train['name'] == 'co2a0000365') & (df_train['trial number'] == 10)]\n",
    "df_c = df_train.loc[(df_train['name'] == 'co2c0000337') & (df_train['trial number'] == 0)]\n",
    "print(f'df_a shape: {df_a.shape}')\n",
    "print(f'df_c shape: {df_c.shape}')"
   ]
  },
  {
   "cell_type": "code",
   "execution_count": null,
   "id": "d1a810c0",
   "metadata": {},
   "outputs": [],
   "source": []
  }
 ],
 "metadata": {
  "kernelspec": {
   "display_name": "Python 3 (ipykernel)",
   "language": "python",
   "name": "python3"
  },
  "language_info": {
   "codemirror_mode": {
    "name": "ipython",
    "version": 3
   },
   "file_extension": ".py",
   "mimetype": "text/x-python",
   "name": "python",
   "nbconvert_exporter": "python",
   "pygments_lexer": "ipython3",
   "version": "3.9.12"
  }
 },
 "nbformat": 4,
 "nbformat_minor": 5
}
